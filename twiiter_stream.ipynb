{
 "cells": [
  {
   "cell_type": "code",
   "execution_count": 1,
   "metadata": {},
   "outputs": [
    {
     "name": "stdout",
     "output_type": "stream",
     "text": [
      "Collecting tweepy\n",
      "  Downloading https://files.pythonhosted.org/packages/36/1b/2bd38043d22ade352fc3d3902cf30ce0e2f4bf285be3b304a2782a767aec/tweepy-3.8.0-py2.py3-none-any.whl\n",
      "Collecting requests-oauthlib>=0.7.0 (from tweepy)\n",
      "  Downloading https://files.pythonhosted.org/packages/a3/12/b92740d845ab62ea4edf04d2f4164d82532b5a0b03836d4d4e71c6f3d379/requests_oauthlib-1.3.0-py2.py3-none-any.whl\n",
      "Requirement already satisfied: six>=1.10.0 in /Users/yangxiaomin/opt/anaconda3/lib/python3.7/site-packages (from tweepy) (1.12.0)\n",
      "Requirement already satisfied: PySocks>=1.5.7 in /Users/yangxiaomin/opt/anaconda3/lib/python3.7/site-packages (from tweepy) (1.7.1)\n",
      "Requirement already satisfied: requests>=2.11.1 in /Users/yangxiaomin/opt/anaconda3/lib/python3.7/site-packages (from tweepy) (2.22.0)\n",
      "Collecting oauthlib>=3.0.0 (from requests-oauthlib>=0.7.0->tweepy)\n",
      "\u001b[?25l  Downloading https://files.pythonhosted.org/packages/05/57/ce2e7a8fa7c0afb54a0581b14a65b56e62b5759dbc98e80627142b8a3704/oauthlib-3.1.0-py2.py3-none-any.whl (147kB)\n",
      "\u001b[K     |████████████████████████████████| 153kB 5.0MB/s eta 0:00:01\n",
      "\u001b[?25hRequirement already satisfied: urllib3!=1.25.0,!=1.25.1,<1.26,>=1.21.1 in /Users/yangxiaomin/opt/anaconda3/lib/python3.7/site-packages (from requests>=2.11.1->tweepy) (1.24.2)\n",
      "Requirement already satisfied: idna<2.9,>=2.5 in /Users/yangxiaomin/opt/anaconda3/lib/python3.7/site-packages (from requests>=2.11.1->tweepy) (2.8)\n",
      "Requirement already satisfied: chardet<3.1.0,>=3.0.2 in /Users/yangxiaomin/opt/anaconda3/lib/python3.7/site-packages (from requests>=2.11.1->tweepy) (3.0.4)\n",
      "Requirement already satisfied: certifi>=2017.4.17 in /Users/yangxiaomin/opt/anaconda3/lib/python3.7/site-packages (from requests>=2.11.1->tweepy) (2019.9.11)\n",
      "Installing collected packages: oauthlib, requests-oauthlib, tweepy\n",
      "Successfully installed oauthlib-3.1.0 requests-oauthlib-1.3.0 tweepy-3.8.0\n",
      "Note: you may need to restart the kernel to use updated packages.\n"
     ]
    }
   ],
   "source": [
    "pip install tweepy\n"
   ]
  },
  {
   "cell_type": "code",
   "execution_count": 74,
   "metadata": {},
   "outputs": [],
   "source": [
    "#import packages\n",
    "from tweepy.streaming import StreamListener\n",
    "from tweepy import OAuthHandler\n",
    "from tweepy import Stream\n",
    "\n",
    "\n",
    "from tweepy import API\n",
    "from tweepy import Cursor\n",
    "\n",
    "import pandas as pd\n",
    "import  numpy as np\n",
    "import matplotlib.pyplot as plt"
   ]
  },
  {
   "cell_type": "code",
   "execution_count": 26,
   "metadata": {},
   "outputs": [],
   "source": [
    "ACCESS_TOKEN ='962914557030121472-hcb2iK1rTOWIPwq0QBYGkjXqfIRheWb'\n",
    "ACCESS_TOKEN_SECRET='EVVAwzt8xpDjfeq1wOcdsZb2VXLosQ7aSijppAxOBlsZG'\n",
    "CONSUMER_KEY='1igMI0nfcpR9jgiZF4AT7jFm9'\n",
    "CONSUMER_SECRET='AQBrguo2bg5bdq6to3tCCBS9nKspRD70lcd2y0GkEhAQEeKVNZ'"
   ]
  },
  {
   "cell_type": "code",
   "execution_count": 62,
   "metadata": {},
   "outputs": [
    {
     "name": "stdout",
     "output_type": "stream",
     "text": [
      "[Status(_api=<tweepy.api.API object at 0x105766f90>, _json={'created_at': 'Fri Feb 07 03:15:00 +0000 2020', 'id': 1225618939172007937, 'id_str': '1225618939172007937', 'text': '不忘记\\n不原谅\\n  Remember the anger #WuhanPneumonia # https://t.co/NZw5vcMZo3', 'truncated': False, 'entities': {'hashtags': [{'text': 'WuhanPneumonia', 'indices': [29, 44]}], 'symbols': [], 'user_mentions': [], 'urls': [], 'media': [{'id': 1225618935489482752, 'id_str': '1225618935489482752', 'indices': [47, 70], 'media_url': 'http://pbs.twimg.com/media/EQJF7Z_X0AAj4o-.jpg', 'media_url_https': 'https://pbs.twimg.com/media/EQJF7Z_X0AAj4o-.jpg', 'url': 'https://t.co/NZw5vcMZo3', 'display_url': 'pic.twitter.com/NZw5vcMZo3', 'expanded_url': 'https://twitter.com/jiemin93619473/status/1225618939172007937/photo/1', 'type': 'photo', 'sizes': {'thumb': {'w': 150, 'h': 150, 'resize': 'crop'}, 'large': {'w': 750, 'h': 1334, 'resize': 'fit'}, 'medium': {'w': 675, 'h': 1200, 'resize': 'fit'}, 'small': {'w': 382, 'h': 680, 'resize': 'fit'}}}]}, 'extended_entities': {'media': [{'id': 1225618935489482752, 'id_str': '1225618935489482752', 'indices': [47, 70], 'media_url': 'http://pbs.twimg.com/media/EQJF7Z_X0AAj4o-.jpg', 'media_url_https': 'https://pbs.twimg.com/media/EQJF7Z_X0AAj4o-.jpg', 'url': 'https://t.co/NZw5vcMZo3', 'display_url': 'pic.twitter.com/NZw5vcMZo3', 'expanded_url': 'https://twitter.com/jiemin93619473/status/1225618939172007937/photo/1', 'type': 'photo', 'sizes': {'thumb': {'w': 150, 'h': 150, 'resize': 'crop'}, 'large': {'w': 750, 'h': 1334, 'resize': 'fit'}, 'medium': {'w': 675, 'h': 1200, 'resize': 'fit'}, 'small': {'w': 382, 'h': 680, 'resize': 'fit'}}}]}, 'source': '<a href=\"http://twitter.com/download/iphone\" rel=\"nofollow\">Twitter for iPhone</a>', 'in_reply_to_status_id': None, 'in_reply_to_status_id_str': None, 'in_reply_to_user_id': None, 'in_reply_to_user_id_str': None, 'in_reply_to_screen_name': None, 'user': {'id': 962914557030121472, 'id_str': '962914557030121472', 'name': 'jiemin', 'screen_name': 'jiemin93619473', 'location': '', 'description': '', 'url': None, 'entities': {'description': {'urls': []}}, 'protected': False, 'followers_count': 0, 'friends_count': 16, 'listed_count': 0, 'created_at': 'Mon Feb 12 05:01:35 +0000 2018', 'favourites_count': 1, 'utc_offset': None, 'time_zone': None, 'geo_enabled': False, 'verified': False, 'statuses_count': 1, 'lang': None, 'contributors_enabled': False, 'is_translator': False, 'is_translation_enabled': False, 'profile_background_color': 'F5F8FA', 'profile_background_image_url': None, 'profile_background_image_url_https': None, 'profile_background_tile': False, 'profile_image_url': 'http://abs.twimg.com/sticky/default_profile_images/default_profile_normal.png', 'profile_image_url_https': 'https://abs.twimg.com/sticky/default_profile_images/default_profile_normal.png', 'profile_link_color': '1DA1F2', 'profile_sidebar_border_color': 'C0DEED', 'profile_sidebar_fill_color': 'DDEEF6', 'profile_text_color': '333333', 'profile_use_background_image': True, 'has_extended_profile': False, 'default_profile': True, 'default_profile_image': True, 'following': False, 'follow_request_sent': False, 'notifications': False, 'translator_type': 'none'}, 'geo': None, 'coordinates': None, 'place': None, 'contributors': None, 'is_quote_status': False, 'retweet_count': 0, 'favorite_count': 0, 'favorited': False, 'retweeted': False, 'possibly_sensitive': False, 'lang': 'zh'}, created_at=datetime.datetime(2020, 2, 7, 3, 15), id=1225618939172007937, id_str='1225618939172007937', text='不忘记\\n不原谅\\n  Remember the anger #WuhanPneumonia # https://t.co/NZw5vcMZo3', truncated=False, entities={'hashtags': [{'text': 'WuhanPneumonia', 'indices': [29, 44]}], 'symbols': [], 'user_mentions': [], 'urls': [], 'media': [{'id': 1225618935489482752, 'id_str': '1225618935489482752', 'indices': [47, 70], 'media_url': 'http://pbs.twimg.com/media/EQJF7Z_X0AAj4o-.jpg', 'media_url_https': 'https://pbs.twimg.com/media/EQJF7Z_X0AAj4o-.jpg', 'url': 'https://t.co/NZw5vcMZo3', 'display_url': 'pic.twitter.com/NZw5vcMZo3', 'expanded_url': 'https://twitter.com/jiemin93619473/status/1225618939172007937/photo/1', 'type': 'photo', 'sizes': {'thumb': {'w': 150, 'h': 150, 'resize': 'crop'}, 'large': {'w': 750, 'h': 1334, 'resize': 'fit'}, 'medium': {'w': 675, 'h': 1200, 'resize': 'fit'}, 'small': {'w': 382, 'h': 680, 'resize': 'fit'}}}]}, extended_entities={'media': [{'id': 1225618935489482752, 'id_str': '1225618935489482752', 'indices': [47, 70], 'media_url': 'http://pbs.twimg.com/media/EQJF7Z_X0AAj4o-.jpg', 'media_url_https': 'https://pbs.twimg.com/media/EQJF7Z_X0AAj4o-.jpg', 'url': 'https://t.co/NZw5vcMZo3', 'display_url': 'pic.twitter.com/NZw5vcMZo3', 'expanded_url': 'https://twitter.com/jiemin93619473/status/1225618939172007937/photo/1', 'type': 'photo', 'sizes': {'thumb': {'w': 150, 'h': 150, 'resize': 'crop'}, 'large': {'w': 750, 'h': 1334, 'resize': 'fit'}, 'medium': {'w': 675, 'h': 1200, 'resize': 'fit'}, 'small': {'w': 382, 'h': 680, 'resize': 'fit'}}}]}, source='Twitter for iPhone', source_url='http://twitter.com/download/iphone', in_reply_to_status_id=None, in_reply_to_status_id_str=None, in_reply_to_user_id=None, in_reply_to_user_id_str=None, in_reply_to_screen_name=None, author=User(_api=<tweepy.api.API object at 0x105766f90>, _json={'id': 962914557030121472, 'id_str': '962914557030121472', 'name': 'jiemin', 'screen_name': 'jiemin93619473', 'location': '', 'description': '', 'url': None, 'entities': {'description': {'urls': []}}, 'protected': False, 'followers_count': 0, 'friends_count': 16, 'listed_count': 0, 'created_at': 'Mon Feb 12 05:01:35 +0000 2018', 'favourites_count': 1, 'utc_offset': None, 'time_zone': None, 'geo_enabled': False, 'verified': False, 'statuses_count': 1, 'lang': None, 'contributors_enabled': False, 'is_translator': False, 'is_translation_enabled': False, 'profile_background_color': 'F5F8FA', 'profile_background_image_url': None, 'profile_background_image_url_https': None, 'profile_background_tile': False, 'profile_image_url': 'http://abs.twimg.com/sticky/default_profile_images/default_profile_normal.png', 'profile_image_url_https': 'https://abs.twimg.com/sticky/default_profile_images/default_profile_normal.png', 'profile_link_color': '1DA1F2', 'profile_sidebar_border_color': 'C0DEED', 'profile_sidebar_fill_color': 'DDEEF6', 'profile_text_color': '333333', 'profile_use_background_image': True, 'has_extended_profile': False, 'default_profile': True, 'default_profile_image': True, 'following': False, 'follow_request_sent': False, 'notifications': False, 'translator_type': 'none'}, id=962914557030121472, id_str='962914557030121472', name='jiemin', screen_name='jiemin93619473', location='', description='', url=None, entities={'description': {'urls': []}}, protected=False, followers_count=0, friends_count=16, listed_count=0, created_at=datetime.datetime(2018, 2, 12, 5, 1, 35), favourites_count=1, utc_offset=None, time_zone=None, geo_enabled=False, verified=False, statuses_count=1, lang=None, contributors_enabled=False, is_translator=False, is_translation_enabled=False, profile_background_color='F5F8FA', profile_background_image_url=None, profile_background_image_url_https=None, profile_background_tile=False, profile_image_url='http://abs.twimg.com/sticky/default_profile_images/default_profile_normal.png', profile_image_url_https='https://abs.twimg.com/sticky/default_profile_images/default_profile_normal.png', profile_link_color='1DA1F2', profile_sidebar_border_color='C0DEED', profile_sidebar_fill_color='DDEEF6', profile_text_color='333333', profile_use_background_image=True, has_extended_profile=False, default_profile=True, default_profile_image=True, following=False, follow_request_sent=False, notifications=False, translator_type='none'), user=User(_api=<tweepy.api.API object at 0x105766f90>, _json={'id': 962914557030121472, 'id_str': '962914557030121472', 'name': 'jiemin', 'screen_name': 'jiemin93619473', 'location': '', 'description': '', 'url': None, 'entities': {'description': {'urls': []}}, 'protected': False, 'followers_count': 0, 'friends_count': 16, 'listed_count': 0, 'created_at': 'Mon Feb 12 05:01:35 +0000 2018', 'favourites_count': 1, 'utc_offset': None, 'time_zone': None, 'geo_enabled': False, 'verified': False, 'statuses_count': 1, 'lang': None, 'contributors_enabled': False, 'is_translator': False, 'is_translation_enabled': False, 'profile_background_color': 'F5F8FA', 'profile_background_image_url': None, 'profile_background_image_url_https': None, 'profile_background_tile': False, 'profile_image_url': 'http://abs.twimg.com/sticky/default_profile_images/default_profile_normal.png', 'profile_image_url_https': 'https://abs.twimg.com/sticky/default_profile_images/default_profile_normal.png', 'profile_link_color': '1DA1F2', 'profile_sidebar_border_color': 'C0DEED', 'profile_sidebar_fill_color': 'DDEEF6', 'profile_text_color': '333333', 'profile_use_background_image': True, 'has_extended_profile': False, 'default_profile': True, 'default_profile_image': True, 'following': False, 'follow_request_sent': False, 'notifications': False, 'translator_type': 'none'}, id=962914557030121472, id_str='962914557030121472', name='jiemin', screen_name='jiemin93619473', location='', description='', url=None, entities={'description': {'urls': []}}, protected=False, followers_count=0, friends_count=16, listed_count=0, created_at=datetime.datetime(2018, 2, 12, 5, 1, 35), favourites_count=1, utc_offset=None, time_zone=None, geo_enabled=False, verified=False, statuses_count=1, lang=None, contributors_enabled=False, is_translator=False, is_translation_enabled=False, profile_background_color='F5F8FA', profile_background_image_url=None, profile_background_image_url_https=None, profile_background_tile=False, profile_image_url='http://abs.twimg.com/sticky/default_profile_images/default_profile_normal.png', profile_image_url_https='https://abs.twimg.com/sticky/default_profile_images/default_profile_normal.png', profile_link_color='1DA1F2', profile_sidebar_border_color='C0DEED', profile_sidebar_fill_color='DDEEF6', profile_text_color='333333', profile_use_background_image=True, has_extended_profile=False, default_profile=True, default_profile_image=True, following=False, follow_request_sent=False, notifications=False, translator_type='none'), geo=None, coordinates=None, place=None, contributors=None, is_quote_status=False, retweet_count=0, favorite_count=0, favorited=False, retweeted=False, possibly_sensitive=False, lang='zh')]\n"
     ]
    }
   ],
   "source": [
    "twitter_client=TwitterClient()\n",
    "print(twitter_client.get_user_timeline_tweets(1))"
   ]
  },
  {
   "cell_type": "code",
   "execution_count": 67,
   "metadata": {},
   "outputs": [],
   "source": [
    "# twitter clinet\n",
    "class TwitterClient():\n",
    "    def __init__(self,twitter_user=None):\n",
    "        self.auth=TwitterAuthenticator().authenticate_twitter_app()\n",
    "        self.twitter_client=API(self.auth)\n",
    "        \n",
    "        self.twitter_user=twitter_user\n",
    "        \n",
    "    def get_twitter_client_api(self):\n",
    "        return self.twitter_client\n",
    "        \n",
    "    def get_user_timeline_tweets(self,num_tweets):\n",
    "        tweets=[]\n",
    "        for tweet in Cursor(self.twitter_client.user_timeline,id=self.twitter_user).items(num_tweets):\n",
    "            tweets.append(tweet)\n",
    "        return tweets\n",
    "        \n",
    "    def get_friend_list(self,num_friends):\n",
    "        friend_list=[]\n",
    "        for friend in Cuursor(self.twitter_client.user_timeline,id=self.twitter_user).items(num_tweets):\n",
    "            friend_list.append(friend)\n",
    "        return friend_list\n",
    "        \n",
    "    def get_home_tiemline_tweets(self,num_tweets):\n",
    "        home_timeline_tweets=[]\n",
    "        for tweet in Cursor(self.twitter_client.home_timeline,id=self.twitter_user).items(num_tweets):\n",
    "            home_timeline_tweets.append(tweet)\n",
    "        return home_timeline_tweets\n"
   ]
  },
  {
   "cell_type": "code",
   "execution_count": 47,
   "metadata": {},
   "outputs": [],
   "source": [
    "#twitter authenticater\n",
    "class TwitterAuthenticator():\n",
    "\n",
    "    def authenticate_twitter_app(self):\n",
    "        auth=OAuthHandler(CONSUMER_KEY,CONSUMER_SECRET)\n",
    "        auth.set_access_token(ACCESS_TOKEN,ACCESS_TOKEN_SECRET)\n",
    "\n",
    "        return auth"
   ]
  },
  {
   "cell_type": "code",
   "execution_count": 48,
   "metadata": {},
   "outputs": [],
   "source": [
    "class Twitterstreamer():\n",
    "    '''\n",
    "    class for stream and processing live tweets\n",
    "    '''\n",
    "    def __init__(self):\n",
    "        self.twitter_autenticator=TwitterAuthenticator()\n",
    "        \n",
    "        \n",
    "    def stream_tweets(self,fetched_tweets_filename,hash_tag_list):\n",
    "    # this handles Twitter authentication and the connection to the twitter streaming APT\n",
    "        listener=StdoutListener(fetched_tweets_filename)\n",
    "        auth = self.twitter_autenticator.authenticate_twitter_app() \n",
    "        stream=Stream(auth,listener)\n",
    "        stream.filter(track=hash_tag_list)   \n"
   ]
  },
  {
   "cell_type": "code",
   "execution_count": 49,
   "metadata": {},
   "outputs": [],
   "source": [
    "class StdoutListener(StreamListener):\n",
    "    '''\n",
    "    this a basic linsterne class that just prints received tweets to stdout.\n",
    "    \n",
    "    '''\n",
    "    def __init__(self,fetched_tweets_filename):\n",
    "        self.fetched_tweets_filename=fetched_tweets_filename\n",
    "    def on_data(self,data):\n",
    "        try:\n",
    "            print(data)\n",
    "            with open(slf.fetched_tweets_filename,'a')as tf:\n",
    "                tf.write(data)\n",
    "\n",
    "            return True\n",
    "        except BaseException as e:\n",
    "            print('Error on data: %s' % str(e))\n",
    "        return True\n",
    "\n",
    "    def on_error(self,status):\n",
    "        if status ==420:\n",
    "            # returning false on data method in case rate limit occurs.\n",
    "            return False  \n",
    "        print(status)\n",
    "    "
   ]
  },
  {
   "cell_type": "code",
   "execution_count": 71,
   "metadata": {},
   "outputs": [],
   "source": [
    "class TweetAnalyzer():\n",
    "    '''\n",
    "    funcionalityfor analyzing and categorizing content from tweets\n",
    "    '''\n",
    "    \n",
    "    def tweets_to_data_frame(self,tweets):\n",
    "        df=pd.DataFrame(data=[tweet.text for tweet in tweets],columns=['tweets'])\n",
    "        df['id']=np.array([tweet.id for tweet in tweets])\n",
    "        df['len']=np.array([len(tweet.text)for tweet in tweets])\n",
    "        df['date']=np.array([tweet.created_at for tweet in tweets])\n",
    "        df['source']=np.array([tweet.source for tweet in tweets])\n",
    "        df['likes']=np.array([tweet.favorite_count for tweet in tweets])\n",
    "        df['retweets']=np.array([tweet.retweet_count for  tweet in tweets])\n",
    "        \n",
    "        return df\n",
    "       "
   ]
  },
  {
   "cell_type": "code",
   "execution_count": 73,
   "metadata": {},
   "outputs": [
    {
     "name": "stdout",
     "output_type": "stream",
     "text": [
      "                                              tweets                   id  \\\n",
      "0  The only way to stop the crazed Radical Left, ...  1226166432431558656   \n",
      "1  Crazy Nancy Pelosi’s Impeachment Hoax has lift...  1226162962873962503   \n",
      "2  Thank you Iowa for the RECORD vote we just rec...  1226159743456161795   \n",
      "3  RT @realDonaldTrump: Great poll in Iowa, where...  1226155943534190593   \n",
      "4  ....was given a horrendous report by his super...  1226154003551178752   \n",
      "5  Fake News @CNN &amp; MSDNC keep talking about ...  1226154000971681795   \n",
      "6  RT @realDonaldTrump: I was very surprised &amp...  1226123356526825472   \n",
      "7  RT @realDonaldTrump: ....always continue. Ever...  1226123345827069952   \n",
      "8  RT @DonaldJTrumpJr: Despite nonstop efforts fr...  1226121850595553280   \n",
      "9  RT @DonaldJTrumpJr: On the bright side, he may...  1226121611377627136   \n",
      "\n",
      "   len                date              source  likes  retweets  \n",
      "0  139 2020-02-08 15:30:33  Twitter for iPhone  16370      4368  \n",
      "1  139 2020-02-08 15:16:46  Twitter for iPhone  36011      8298  \n",
      "2  140 2020-02-08 15:03:58  Twitter for iPhone  25098      6333  \n",
      "3  112 2020-02-08 14:48:52  Twitter for iPhone      0     16375  \n",
      "4  140 2020-02-08 14:41:09  Twitter for iPhone  36993      8478  \n",
      "5  144 2020-02-08 14:41:09  Twitter for iPhone  41907     10653  \n",
      "6  144 2020-02-08 12:39:23  Twitter for iPhone      0     24173  \n",
      "7  140 2020-02-08 12:39:20  Twitter for iPhone      0     16255  \n",
      "8  140 2020-02-08 12:33:24  Twitter for iPhone      0      6478  \n",
      "9  140 2020-02-08 12:32:27  Twitter for iPhone      0     14248  \n"
     ]
    }
   ],
   "source": [
    "if __name__ == '__main__':\n",
    "    \n",
    "    twitter_client=TwitterClient()\n",
    "    tweet_analyzer=TweetAnalyzer()\n",
    "    \n",
    "    api=twitter_client.get_twitter_client_api()\n",
    "    tweets=api.user_timeline(screen_name='realDonaldTrump',count=20)\n",
    "    \n",
    "    df=tweet_analyzer.tweets_to_data_frame(tweets)\n",
    "    print(df.head(10))\n",
    "    "
   ]
  },
  {
   "cell_type": "code",
   "execution_count": 63,
   "metadata": {},
   "outputs": [],
   "source": []
  },
  {
   "cell_type": "code",
   "execution_count": null,
   "metadata": {},
   "outputs": [],
   "source": []
  }
 ],
 "metadata": {
  "kernelspec": {
   "display_name": "Python 3",
   "language": "python",
   "name": "python3"
  },
  "language_info": {
   "codemirror_mode": {
    "name": "ipython",
    "version": 3
   },
   "file_extension": ".py",
   "mimetype": "text/x-python",
   "name": "python",
   "nbconvert_exporter": "python",
   "pygments_lexer": "ipython3",
   "version": "3.7.4"
  }
 },
 "nbformat": 4,
 "nbformat_minor": 2
}
