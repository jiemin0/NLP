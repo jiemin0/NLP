{
 "cells": [
  {
   "cell_type": "code",
   "execution_count": null,
   "metadata": {},
   "outputs": [],
   "source": [
    "ACCESS_TOKEN ='962914557030121472-hcb2iK1rTOWIPwq0QBYGkjXqfIRheWb'\n",
    "ACCESS_TOKEN_SECRET='EVVAwzt8xpDjfeq1wOcdsZb2VXLosQ7aSijppAxOBlsZG'\n",
    "CONSUMER_KEY='1igMI0nfcpR9jgiZF4AT7jFm9'\n",
    "CONSUMER_SECRET='AQBrguo2bg5bdq6to3tCCBS9nKspRD70lcd2y0GkEhAQEeKVNZ'"
   ]
  }
 ],
 "metadata": {
  "kernelspec": {
   "display_name": "Python 3",
   "language": "python",
   "name": "python3"
  },
  "language_info": {
   "codemirror_mode": {
    "name": "ipython",
    "version": 3
   },
   "file_extension": ".py",
   "mimetype": "text/x-python",
   "name": "python",
   "nbconvert_exporter": "python",
   "pygments_lexer": "ipython3",
   "version": "3.7.4"
  }
 },
 "nbformat": 4,
 "nbformat_minor": 2
}
